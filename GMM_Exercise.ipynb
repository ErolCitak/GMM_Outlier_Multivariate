{
 "cells": [
  {
   "cell_type": "code",
   "execution_count": 1,
   "metadata": {},
   "outputs": [],
   "source": [
    "import numpy as np\n",
    "import random\n",
    "\n",
    "from sklearn.mixture import GaussianMixture\n",
    "from scipy.stats import multivariate_normal as mvn\n",
    "import itertools\n",
    "from scipy import linalg\n",
    "from scipy import stats as st\n",
    "\n",
    "# for multivariate data distance calculation \n",
    "from scipy.spatial import distance\n",
    "from scipy.stats import chi2\n",
    "\n",
    "import matplotlib.pyplot as plt\n",
    "%matplotlib inline"
   ]
  },
  {
   "cell_type": "code",
   "execution_count": 2,
   "metadata": {},
   "outputs": [],
   "source": [
    "list_ra = []\n",
    "list_rb = []\n",
    "list_rc = []\n",
    "\n",
    "for i in range(100):\n",
    "    \n",
    "    x = random.uniform(0, 1)\n",
    "    y = random.uniform(0, 1)\n",
    "    \n",
    "    list_ra.append([x,y])\n",
    "    list_rb.append([x+5, y+5])\n",
    "    list_rc.append([x+10, y+10])\n",
    "    \n",
    "list_ra = np.array(list_ra)\n",
    "list_rb = np.array(list_rb)\n",
    "list_rc = np.array(list_rc)"
   ]
  },
  {
   "cell_type": "code",
   "execution_count": 3,
   "metadata": {},
   "outputs": [
    {
     "data": {
      "image/png": "[encoded data removed]",
      "text/plain": [
       "<Figure size 720x576 with 1 Axes>"
      ]
     },
     "metadata": {
      "needs_background": "light"
     },
     "output_type": "display_data"
    }
   ],
   "source": [
    "plt.figure(figsize = (10,8))\n",
    "plt.scatter(x=list_ra[:,0],y=list_ra[:,1], cmap='viridis')\n",
    "plt.scatter(x=list_rb[:,0],y=list_rb[:,1],c='black');\n",
    "plt.scatter(x=list_rc[:,0],y=list_rc[:,1],c='red');"
   ]
  },
  {
   "cell_type": "code",
   "execution_count": 4,
   "metadata": {},
   "outputs": [],
   "source": [
    "full_list = np.concatenate((list_ra,list_rb, list_rc))"
   ]
  },
  {
   "cell_type": "code",
   "execution_count": 5,
   "metadata": {},
   "outputs": [
    {
     "data": {
      "text/plain": [
       "(300, 2)"
      ]
     },
     "execution_count": 5,
     "metadata": {},
     "output_type": "execute_result"
    }
   ],
   "source": [
    "full_list.shape"
   ]
  },
  {
   "cell_type": "code",
   "execution_count": 6,
   "metadata": {},
   "outputs": [],
   "source": [
    "gmm = GaussianMixture(n_components=3, covariance_type='full', max_iter=1000).fit(full_list)"
   ]
  },
  {
   "cell_type": "code",
   "execution_count": 7,
   "metadata": {},
   "outputs": [
    {
     "data": {
      "image/png": "[encoded data removed]",
      "text/plain": [
       "<Figure size 720x576 with 1 Axes>"
      ]
     },
     "metadata": {
      "needs_background": "light"
     },
     "output_type": "display_data"
    }
   ],
   "source": [
    "prediction_gmm = gmm.predict(full_list)\n",
    "probs = gmm.predict_proba(full_list)\n",
    "\n",
    "centers = np.zeros((3,2))\n",
    "for i in range(3):\n",
    "    density = mvn(cov=gmm.covariances_[i], mean=gmm.means_[i]).logpdf(full_list)\n",
    "    centers[i, :] = full_list[np.argmax(density)]\n",
    "\n",
    "plt.figure(figsize = (10,8))\n",
    "plt.scatter(full_list[:, 0], full_list[:, 1],c=prediction_gmm ,s=50, cmap='viridis')\n",
    "plt.scatter(centers[:, 0], centers[:, 1],c='black', s=300, alpha=0.4);"
   ]
  },
  {
   "cell_type": "code",
   "execution_count": 8,
   "metadata": {},
   "outputs": [
    {
     "data": {
      "text/plain": [
       "array([[ 5.57588891,  5.4518278 ],\n",
       "       [10.57588891, 10.4518278 ],\n",
       "       [ 0.57588891,  0.4518278 ]])"
      ]
     },
     "execution_count": 8,
     "metadata": {},
     "output_type": "execute_result"
    }
   ],
   "source": [
    "centers"
   ]
  },
  {
   "cell_type": "code",
   "execution_count": 9,
   "metadata": {},
   "outputs": [
    {
     "data": {
      "text/plain": [
       "array([[[ 0.08599283, -0.01232166],\n",
       "        [-0.01232166,  0.08205254]],\n",
       "\n",
       "       [[ 0.08599283, -0.01232166],\n",
       "        [-0.01232166,  0.08205254]],\n",
       "\n",
       "       [[ 0.08599283, -0.01232166],\n",
       "        [-0.01232166,  0.08205254]]])"
      ]
     },
     "execution_count": 9,
     "metadata": {},
     "output_type": "execute_result"
    }
   ],
   "source": [
    "gmm.covariances_"
   ]
  },
  {
   "cell_type": "code",
   "execution_count": 10,
   "metadata": {},
   "outputs": [
    {
     "data": {
      "text/plain": [
       "array([[ 5.51490639,  5.50286993],\n",
       "       [10.51490639, 10.50286993],\n",
       "       [ 0.51490639,  0.50286993]])"
      ]
     },
     "execution_count": 10,
     "metadata": {},
     "output_type": "execute_result"
    }
   ],
   "source": [
    "gmm.means_"
   ]
  },
  {
   "cell_type": "code",
   "execution_count": 11,
   "metadata": {},
   "outputs": [],
   "source": [
    "sample_data = np.asarray([-1,-1]).reshape(1, -1)"
   ]
  },
  {
   "cell_type": "code",
   "execution_count": 12,
   "metadata": {},
   "outputs": [
    {
     "name": "stdout",
     "output_type": "stream",
     "text": [
      "Threshold: 0.050\n",
      "-----------------\n",
      "\n",
      "\n",
      "Component: 0\n",
      "dis: 34.385\n",
      "p-val: 0.000\n",
      "Result: Outlier!\n",
      "-----\n",
      "Component: 1\n",
      "dis: 60.800\n",
      "p-val: 0.000\n",
      "Result: Outlier!\n",
      "-----\n",
      "Component: 2\n",
      "dis: 7.971\n",
      "p-val: 0.005\n",
      "Result: Outlier!\n",
      "-----\n"
     ]
    }
   ],
   "source": [
    "thresh = 0.05\n",
    "print(\"Threshold: {:.3f}\".format(thresh))\n",
    "print(\"-----------------\\n\\n\")\n",
    "\n",
    "for i in range(len(gmm.means_)):\n",
    "    print(\"Component: {}\".format(i))\n",
    "    \n",
    "    m_dis = distance.mahalanobis(sample_data, gmm.means_[i,:], np.linalg.inv(gmm.covariances_[i,:]))\n",
    "    print(\"dis: {:.3f}\".format(m_dis))\n",
    "\n",
    "    # chi square for k-1 = 2-1 = 1\n",
    "    sig = 1 - chi2.cdf(m_dis,1)\n",
    "    print(\"p-val: {:.3f}\".format(sig))\n",
    "\n",
    "    if sig < thresh:\n",
    "        print(\"Result: Outlier!\")\n",
    "    else:\n",
    "        print(\"Result: O.K!\")\n",
    "    \n",
    "    print(\"-----\")"
   ]
  },
  {
   "cell_type": "code",
   "execution_count": 13,
   "metadata": {},
   "outputs": [
    {
     "name": "stdout",
     "output_type": "stream",
     "text": [
      "Component 0: 0.000\n",
      "Component 1: 0.000\n",
      "Component 2: 0.000\n"
     ]
    }
   ],
   "source": [
    "scores = []\n",
    "\n",
    "for i in range(3):\n",
    "    scores.append(mvn.pdf(sample_data,gmm.means_[i,:], gmm.covariances_[i,:] ))\n",
    "    \n",
    "print(\"Component 0: {:.3f}\\nComponent 1: {:.3f}\\nComponent 2: {:.3f}\".format(scores[0],scores[1],scores[2]))"
   ]
  },
  {
   "cell_type": "code",
   "execution_count": 14,
   "metadata": {},
   "outputs": [],
   "source": [
    "## BIC for selection of number of parameter in GMM"
   ]
  },
  {
   "cell_type": "code",
   "execution_count": 15,
   "metadata": {},
   "outputs": [],
   "source": [
    "lowest_bic = np.infty\n",
    "\n",
    "bic = []\n",
    "n_components_range = range(3, 10)\n",
    "cv_types = ['spherical', 'tied', 'diag', 'full']\n",
    "\n",
    "for cv_type in cv_types:\n",
    "    for n_components in n_components_range:\n",
    "        # Fit a Gaussian mixture with EM\n",
    "        gmm = GaussianMixture(n_components=n_components, covariance_type=cv_type, max_iter=100000)\n",
    "        \n",
    "        gmm.fit(full_list)\n",
    "        bic.append(gmm.bic(full_list))\n",
    "        if bic[-1] < lowest_bic:\n",
    "            lowest_bic = bic[-1]\n",
    "            best_gmm = gmm\n",
    "\n",
    "bic = np.array(bic)\n",
    "clf = best_gmm"
   ]
  },
  {
   "cell_type": "code",
   "execution_count": 16,
   "metadata": {},
   "outputs": [
    {
     "data": {
      "text/plain": [
       "'tied'"
      ]
     },
     "execution_count": 16,
     "metadata": {},
     "output_type": "execute_result"
    }
   ],
   "source": [
    "clf.covariance_type"
   ]
  },
  {
   "cell_type": "code",
   "execution_count": 17,
   "metadata": {},
   "outputs": [
    {
     "data": {
      "text/plain": [
       "<bound method BaseEstimator.get_params of GaussianMixture(covariance_type='tied', init_params='kmeans', max_iter=100000,\n",
       "                means_init=None, n_components=7, n_init=1, precisions_init=None,\n",
       "                random_state=None, reg_covar=1e-06, tol=0.001, verbose=0,\n",
       "                verbose_interval=10, warm_start=False, weights_init=None)>"
      ]
     },
     "execution_count": 17,
     "metadata": {},
     "output_type": "execute_result"
    }
   ],
   "source": [
    "clf.get_params"
   ]
  },
  {
   "cell_type": "code",
   "execution_count": 18,
   "metadata": {},
   "outputs": [
    {
     "data": {
      "text/plain": [
       "914.322775047993"
      ]
     },
     "execution_count": 18,
     "metadata": {},
     "output_type": "execute_result"
    }
   ],
   "source": [
    "lowest_bic"
   ]
  },
  {
   "cell_type": "code",
   "execution_count": 19,
   "metadata": {},
   "outputs": [],
   "source": [
    "## New synthetic data\n",
    "from sklearn.datasets import make_blobs\n",
    "from pandas import DataFrame\n",
    "\n",
    "from sklearn.utils.extmath import softmax"
   ]
  },
  {
   "cell_type": "code",
   "execution_count": 20,
   "metadata": {},
   "outputs": [],
   "source": [
    "X, y = make_blobs(n_samples=100, centers=3, n_features=2, cluster_std=3000, center_box = (-50000,50000),random_state=0)"
   ]
  },
  {
   "cell_type": "code",
   "execution_count": 21,
   "metadata": {},
   "outputs": [
    {
     "data": {
      "image/png": "[encoded data removed]",
      "text/plain": [
       "<Figure size 432x288 with 1 Axes>"
      ]
     },
     "metadata": {
      "needs_background": "light"
     },
     "output_type": "display_data"
    }
   ],
   "source": [
    "# scatter plot, dots colored by class value\n",
    "df = DataFrame(dict(x=X[:,0], y=X[:,1], label=y))\n",
    "colors = {0:'red', 1:'blue', 2:'green'}\n",
    "fig, ax = plt.subplots()\n",
    "grouped = df.groupby('label')\n",
    "for key, group in grouped:\n",
    "    group.plot(ax=ax, kind='scatter', x='x', y='y', label=key, color=colors[key])\n",
    "plt.show()"
   ]
  },
  {
   "cell_type": "code",
   "execution_count": 22,
   "metadata": {},
   "outputs": [],
   "source": [
    "gmm = GaussianMixture(n_components=3, covariance_type='full', max_iter=1000).fit(X)"
   ]
  },
  {
   "cell_type": "code",
   "execution_count": 23,
   "metadata": {},
   "outputs": [
    {
     "data": {
      "image/png": "[encoded data removed]",
      "text/plain": [
       "<Figure size 720x576 with 1 Axes>"
      ]
     },
     "metadata": {
      "needs_background": "light"
     },
     "output_type": "display_data"
    }
   ],
   "source": [
    "prediction_gmm = gmm.predict(X)\n",
    "probs = gmm.predict_proba(X)\n",
    "\n",
    "centers = np.zeros((3,2))\n",
    "for i in range(3):\n",
    "    density = mvn(cov=gmm.covariances_[i], mean=gmm.means_[i]).logpdf(X)\n",
    "    centers[i, :] = X[np.argmax(density)]\n",
    "\n",
    "plt.figure(figsize = (10,8))\n",
    "plt.scatter(X[:, 0], X[:, 1],c=prediction_gmm ,s=10, cmap='viridis')\n",
    "plt.scatter(centers[:, 0], centers[:, 1], c='black', s=5000, alpha=0.4);"
   ]
  },
  {
   "cell_type": "code",
   "execution_count": 24,
   "metadata": {},
   "outputs": [],
   "source": [
    "sample_data = np.array([0,15000])"
   ]
  },
  {
   "cell_type": "code",
   "execution_count": 25,
   "metadata": {},
   "outputs": [
    {
     "name": "stdout",
     "output_type": "stream",
     "text": [
      "Threshold: 0.050\n",
      "-----------------\n",
      "\n",
      "\n",
      "Component: 0\n",
      "dis: 4.555\n",
      "p-val: 0.033\n",
      "Result: Outlier!\n",
      "-----\n",
      "Component: 1\n",
      "dis: 3.278\n",
      "p-val: 0.070\n",
      "Result: O.K!\n",
      "-----\n",
      "Component: 2\n",
      "dis: 2.521\n",
      "p-val: 0.112\n",
      "Result: O.K!\n",
      "-----\n"
     ]
    }
   ],
   "source": [
    "thresh = 0.05\n",
    "print(\"Threshold: {:.3f}\".format(thresh))\n",
    "print(\"-----------------\\n\\n\")\n",
    "\n",
    "for i in range(len(gmm.means_)):\n",
    "    print(\"Component: {}\".format(i))\n",
    "    \n",
    "    m_dis = distance.mahalanobis(sample_data, gmm.means_[i,:], np.linalg.inv(gmm.covariances_[i,:]))\n",
    "    print(\"dis: {:.3f}\".format(m_dis))\n",
    "\n",
    "    # chi square for k-1 = 2-1 = 1\n",
    "    sig = 1 - chi2.cdf(m_dis,1)\n",
    "    print(\"p-val: {:.3f}\".format(sig))\n",
    "\n",
    "    if sig < thresh:\n",
    "        print(\"Result: Outlier!\")\n",
    "    else:\n",
    "        print(\"Result: O.K!\")\n",
    "    \n",
    "    print(\"-----\")"
   ]
  },
  {
   "cell_type": "code",
   "execution_count": 26,
   "metadata": {},
   "outputs": [
    {
     "name": "stdout",
     "output_type": "stream",
     "text": [
      "Component 0: 0.00000000000063152329\n",
      "Component 1: 0.00000000009436931261\n",
      "Component 2: 0.00000000072945543964\n"
     ]
    }
   ],
   "source": [
    "scores = []\n",
    "\n",
    "for i in range(3):\n",
    "    scores.append(mvn.pdf(sample_data,gmm.means_[i,:], gmm.covariances_[i,:] ))\n",
    "    \n",
    "print(\"Component 0: {:.20f}\\nComponent 1: {:.20f}\\nComponent 2: {:.20f}\".format(scores[0],scores[1],scores[2]))"
   ]
  }
 ],
 "metadata": {
  "kernelspec": {
   "display_name": "Python 3",
   "language": "python",
   "name": "python3"
  },
  "language_info": {
   "codemirror_mode": {
    "name": "ipython",
    "version": 3
   },
   "file_extension": ".py",
   "mimetype": "text/x-python",
   "name": "python",
   "nbconvert_exporter": "python",
   "pygments_lexer": "ipython3",
   "version": "3.7.6"
  }
 },
 "nbformat": 4,
 "nbformat_minor": 4
}
